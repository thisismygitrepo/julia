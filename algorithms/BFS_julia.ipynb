{
 "cells": [
  {
   "cell_type": "markdown",
   "id": "68296513",
   "metadata": {},
   "source": [
    "\n",
    "# Fastest BFS search algorithm implementation applied to 9-Puzzle\n",
    "\n",
    "Unsolvable pair of starting and target boards are exhausted in 0.5 seconds (180k steps).\n",
    "\n",
    "For reference, a Python implementation takes around 180 seconds, e.g.:\n",
    "\n",
    "* `https://github.com/g-quest/artificial_intelligence_9_puzzle`\n",
    "\n",
    "    * Run: `python driver.py bfs 5,1,2,3,4,7,6,8,0`\n",
    "    \n",
    "Thus, this Julia implementation is **360 times faster**."
   ]
  },
  {
   "cell_type": "code",
   "execution_count": 24,
   "id": "dbaf69fc",
   "metadata": {},
   "outputs": [
    {
     "data": {
      "text/plain": [
       "display (generic function with 31 methods)"
      ]
     },
     "execution_count": 24,
     "metadata": {},
     "output_type": "execute_result"
    }
   ],
   "source": [
    "\n",
    "using BenchmarkTools\n",
    "using StaticArrays\n",
    "import Base.display\n",
    "import Random\n",
    "N = 3\n",
    "M = 3\n",
    "\n",
    "function get_problem()\n",
    "    init_state = Random.shuffle(UInt8.(0 : N * M - 1))\n",
    "    goal_state = Random.shuffle(UInt8.(0 : N * M - 1))\n",
    "    display(init_state)\n",
    "    display(goal_state)\n",
    "    return init_state, goal_state\n",
    "end\n",
    "    \n",
    "\n",
    "display(x::Union{Vector{UInt8}, SVector{9, UInt8}}) = display(reshape(Int64.(x), (3, 3)))\n"
   ]
  },
  {
   "cell_type": "code",
   "execution_count": 25,
   "id": "3116ba1e",
   "metadata": {},
   "outputs": [
    {
     "data": {
      "text/plain": [
       "4×9 Matrix{Int64}:\n",
       " 2  3  0  5  6  0  8  9  0\n",
       " 0  1  2  0  4  5  0  7  8\n",
       " 4  5  6  7  8  9  0  0  0\n",
       " 0  0  0  1  2  3  4  5  6"
      ]
     },
     "metadata": {},
     "output_type": "display_data"
    },
    {
     "data": {
      "text/plain": [
       "9-element SVector{9, SVector{4, Int64}} with indices SOneTo(9):\n",
       " [2, 0, 4, 0]\n",
       " [3, 1, 5, 0]\n",
       " [0, 2, 6, 0]\n",
       " [5, 0, 7, 1]\n",
       " [6, 4, 8, 2]\n",
       " [0, 5, 9, 3]\n",
       " [8, 0, 0, 4]\n",
       " [9, 7, 0, 5]\n",
       " [0, 8, 0, 6]"
      ]
     },
     "metadata": {},
     "output_type": "display_data"
    }
   ],
   "source": [
    "st = SVector{4, SVector{9, UInt8}}(SVector{9, UInt8}(1:9) for i in 1:4)  # state copied 4 times.\n",
    "\n",
    "# generating possible next moves given current state\n",
    "# in particular, which locations can \"0\" be swapped with\n",
    "MOVES_ = Int64.(zeros(4, 9))  # 4 max possible moves for 9 possible states\n",
    "for i in 1:9  # 9 possible locations for \"0\"\n",
    "    a = collect(1:9)\n",
    "    a[i] = 0  # creative a vector with 0 in that location.\n",
    "    aa = reshape(a, (3, 3))\n",
    "    ii = findall(x->x==0, aa)[1]  # location of \"0\" but inside the matrix not the vector.\n",
    "    \n",
    "    if ii[1] < 3  # can be increased ==> MOVE zero down\n",
    "        tmp = reshape(collect(1:9), (3, 3))\n",
    "        tmp[ii[1] + 1, ii[2]] = 0\n",
    "        ii_ = findall(x->x==0, reshape(tmp, 9))[1]\n",
    "        MOVES_[1, i] = ii_\n",
    "    end\n",
    "    if ii[1] > 1  # can be decreased ==> MOVE zero up\n",
    "        tmp = reshape(collect(1:9), (3, 3))\n",
    "        tmp[ii[1] - 1, ii[2]] = 0\n",
    "        ii_ = findall(x->x==0, reshape(tmp, 9))[1]\n",
    "        MOVES_[2, i] = ii_    \n",
    "    end  \n",
    "    if ii[2] < 3  # can  be increased ==> MOVE zero left\n",
    "        tmp = reshape(collect(1:9), (3, 3))\n",
    "        tmp[ii[1], ii[2] + 1] = 0\n",
    "        ii_ = findall(x->x==0, reshape(tmp, 9))[1]\n",
    "        MOVES_[3, i] = ii_                \n",
    "    end\n",
    "    if ii[2] > 1  # can be increased ==> MOVE zero right\n",
    "        tmp = reshape(collect(1:9), (3, 3))\n",
    "        tmp[ii[1], ii[2] - 1] = 0\n",
    "        ii_ = findall(x->x==0, reshape(tmp, 9))[1]\n",
    "        MOVES_[4, i] = ii_    \n",
    "    end\n",
    "end\n",
    "\n",
    "const MOVES = SVector([SVector(x...) for x in [[2, 0, 4, 0], [3, 1, 5, 0], [0, 2, 6, 0], [5, 0, 7, 1],\n",
    "                [6, 4, 8, 2], [0, 5, 9, 3],\n",
    "                [8, 0, 0, 4], [9, 7, 0 ,5], [0, 8, 0, 6]]]...);  \n",
    "# TODO: Make UInt8\n",
    "\n",
    "display(MOVES_)\n",
    "display(MOVES)"
   ]
  },
  {
   "cell_type": "code",
   "execution_count": 26,
   "id": "60f0a7de",
   "metadata": {},
   "outputs": [
    {
     "name": "stdout",
     "output_type": "stream",
     "text": [
      "  53.049 ns (1 allocation: 96 bytes)\n",
      "  21.407 ns (0 allocations: 0 bytes)\n"
     ]
    },
    {
     "data": {
      "text/plain": [
       "9"
      ]
     },
     "execution_count": 26,
     "metadata": {},
     "output_type": "execute_result"
    }
   ],
   "source": [
    "function get_blank_index1(state)\n",
    "    return findall(state .== 0)[1]\n",
    "end\n",
    "\n",
    "@inline function get_blank_index2(state)\n",
    "    for (idx, item) in enumerate(state)\n",
    "        if item == 0\n",
    "            return idx\n",
    "        end\n",
    "    end\n",
    "    println(\"Failed to find index of zero tile.\")\n",
    "    return 0 # avoid type instability in the return, as indicated by @code_warntype\n",
    "end\n",
    "\n",
    "state = SVector(UInt8.([1,2,3,8,6,4,7,5,0])...)\n",
    "@btime get_blank_index1(state)\n",
    "@btime get_blank_index2(state)\n"
   ]
  },
  {
   "cell_type": "code",
   "execution_count": 27,
   "id": "337f0306",
   "metadata": {},
   "outputs": [
    {
     "data": {
      "text/plain": [
       "get_next_states_only (generic function with 1 method)"
      ]
     },
     "execution_count": 27,
     "metadata": {},
     "output_type": "execute_result"
    }
   ],
   "source": [
    "\"\"\"The object lives in memory and has reference to its parent\n",
    "\"\"\"\n",
    "mutable struct ReferenceVertex\n",
    "   state::Vector{UInt8}\n",
    "   parent::ReferenceVertex\n",
    "   ReferenceVertex(state, parent) = new(state, parent)\n",
    "   ReferenceVertex(state) = begin\n",
    "        x = new(state)\n",
    "        x.parent = x  # MUTATION\n",
    "    end\n",
    "end\n",
    "\n",
    "\n",
    "@inline function get_next_states_only(st, state)\n",
    "    idx = get_blank_index2(state)  # location of zero\n",
    "    counter = 0\n",
    "    for item in MOVES[idx]\n",
    "        if item != 0\n",
    "            tmp = state[item]\n",
    "            nxt = setindex(setindex(state, 0, item), tmp, idx)\n",
    "            counter += 1\n",
    "            st = setindex(st, nxt, counter)\n",
    "        end\n",
    "    end\n",
    "    return st, counter\n",
    "end\n"
   ]
  },
  {
   "cell_type": "code",
   "execution_count": 28,
   "id": "8cb06282",
   "metadata": {},
   "outputs": [
    {
     "data": {
      "text/plain": [
       "trace_solution (generic function with 2 methods)"
      ]
     },
     "execution_count": 28,
     "metadata": {},
     "output_type": "execute_result"
    }
   ],
   "source": [
    "\n",
    "function bfs_with_reference_objects(init_state, goal_state; verbose=true)\n",
    "    \n",
    "    EXPLORED_H = Set{UInt64}()  # container of hashes for fast search.    \n",
    "    EXPLORED = Vector{ReferenceVertex}()  # container of Frontier objects.\n",
    "\n",
    "    FRONTIER = Vector{ReferenceVertex}()  # container of Frontier objects.\n",
    "    FRONTIER_H = Set{UInt64}()  # container of hashes.\n",
    "    \n",
    "    goal_state = SVector(goal_state...)\n",
    "    push!(FRONTIER, ReferenceVertex(init_state))\n",
    "    counter = 0\n",
    "    \n",
    "    while length(FRONTIER) > 0\n",
    "        counter += 1\n",
    "        obj = popfirst!(FRONTIER)\n",
    "        current_state = SVector(obj.state...)\n",
    "        \n",
    "        if current_state == goal_state\n",
    "            if verbose\n",
    "                println(\"Solved\")\n",
    "                println(\"Frontier size = $(length(FRONTIER))\")\n",
    "                println(\"Explored size = $(length(EXPLORED_H))\")\n",
    "            end\n",
    "            return obj  # trace_solution(current_state, front_pointer)\n",
    "        else\n",
    "            \n",
    "            states, num = get_next_states_only(st, current_state)\n",
    "\n",
    "            @inbounds for index ∈ 1:num\n",
    "                item = states[index]\n",
    "                if (hash(item) ∉ EXPLORED_H) & (hash(item) ∉ FRONTIER_H)\n",
    "                    push!(FRONTIER, ReferenceVertex(item, obj))\n",
    "                    push!(FRONTIER_H, hash(item))\n",
    "                end\n",
    "            end\n",
    "            \n",
    "            push!(EXPLORED_H, hash(current_state))\n",
    "            push!(EXPLORED, obj)\n",
    "            \n",
    "        end  # if statement  \n",
    "    end  # while loop\n",
    "    \n",
    "    if verbose\n",
    "        println(\"No solution\")\n",
    "        println(\"Frontier size = $(length(FRONTIER))\")\n",
    "        println(\"Explored size = $(length(EXPLORED_H))\")\n",
    "    end\n",
    "    return nothing\n",
    "end\n",
    "\n",
    "\n",
    "function trace_solution(goal_obj, print_it=true)\n",
    "    if goal_obj == nothing\n",
    "       return nothing \n",
    "    end\n",
    "    result = []\n",
    "    current_obj = goal_obj\n",
    "    while current_obj != current_obj.parent\n",
    "        push!(result, current_obj)\n",
    "        current_obj = current_obj.parent\n",
    "    end\n",
    "    push!(result, current_obj)\n",
    "    result = reverse(result)\n",
    "    print(\"Solution length = \", length(result))\n",
    "    \n",
    "    if print_it  && length(result) < 50\n",
    "       for step in result\n",
    "           display(step.state)\n",
    "       end \n",
    "    end\n",
    "    return result\n",
    "    \n",
    "end\n"
   ]
  },
  {
   "cell_type": "code",
   "execution_count": 29,
   "id": "fc56cd47",
   "metadata": {},
   "outputs": [
    {
     "data": {
      "text/plain": [
       "3×3 Matrix{Int64}:\n",
       " 3  1  8\n",
       " 6  2  4\n",
       " 7  0  5"
      ]
     },
     "metadata": {},
     "output_type": "display_data"
    },
    {
     "data": {
      "text/plain": [
       "3×3 Matrix{Int64}:\n",
       " 4  0  8\n",
       " 7  3  2\n",
       " 5  1  6"
      ]
     },
     "metadata": {},
     "output_type": "display_data"
    }
   ],
   "source": [
    "init_state, goal_state = get_problem();"
   ]
  },
  {
   "cell_type": "code",
   "execution_count": 30,
   "id": "deaa77f0",
   "metadata": {},
   "outputs": [
    {
     "name": "stdout",
     "output_type": "stream",
     "text": [
      "No solution\n",
      "Frontier size = 0\n",
      "Explored size = 181440\n"
     ]
    }
   ],
   "source": [
    "sol = bfs_with_reference_objects(init_state, goal_state; verbose=true);\n",
    "trc = trace_solution(sol);"
   ]
  },
  {
   "cell_type": "code",
   "execution_count": 31,
   "id": "cfc131f2",
   "metadata": {},
   "outputs": [
    {
     "name": "stdout",
     "output_type": "stream",
     "text": [
      "  491.323 ms (4233708 allocations: 127.98 MiB)\n"
     ]
    }
   ],
   "source": [
    "@btime bfs_with_reference_objects(init_state, goal_state; verbose=false);"
   ]
  },
  {
   "cell_type": "code",
   "execution_count": null,
   "id": "545c996d",
   "metadata": {},
   "outputs": [],
   "source": []
  }
 ],
 "metadata": {
  "kernelspec": {
   "display_name": "Julia 1.6.2",
   "language": "julia",
   "name": "julia-1.6"
  },
  "language_info": {
   "file_extension": ".jl",
   "mimetype": "application/julia",
   "name": "julia",
   "version": "1.6.2"
  }
 },
 "nbformat": 4,
 "nbformat_minor": 5
}
